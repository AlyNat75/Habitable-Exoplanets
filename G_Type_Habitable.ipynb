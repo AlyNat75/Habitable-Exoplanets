{
 "cells": [
  {
   "cell_type": "code",
   "execution_count": 23,
   "metadata": {},
   "outputs": [],
   "source": [
    "# Necessary Import Statements\n",
    "import pandas as pd\n",
    "import numpy as np\n",
    "\n",
    "# Imports the datasets\n",
    "data = pd.read_csv('Exoplanet_Data.csv', low_memory=False)\n",
    "phl = pd.read_csv('PHL_Dataset.csv', low_memory=False)\n"
   ]
  },
  {
   "cell_type": "code",
   "execution_count": 24,
   "metadata": {},
   "outputs": [],
   "source": [
    "# Removes any planets that have an NA eccentricity value\n",
    "data = data[data['pl_orbeccen'].notna()]\n",
    "data = data[data['pl_rade'].notna()]\n",
    "\n",
    "# Resets the data row index\n",
    "data = data.reset_index (drop = True)"
   ]
  },
  {
   "cell_type": "code",
   "execution_count": 25,
   "metadata": {},
   "outputs": [],
   "source": [
    "# Makes an empty m_type dataframe with same column headers\n",
    "g_type = pd.DataFrame(columns=list(data.columns))\n",
    "\n",
    "# Makes an empty m_type_habitable dataframe to store planets that result out of this code\n",
    "g_type_habitable = pd.DataFrame(columns=list(data.columns))\n",
    "\n",
    "# Fills the m_type dataframe with M-type host stars' planets\n",
    "g_type = data.loc[(data['st_spectype'].str.startswith('G', na=False))]\n",
    "\n",
    "# Resets the m_type row index\n",
    "g_type = g_type.reset_index (drop = True)"
   ]
  },
  {
   "cell_type": "code",
   "execution_count": 26,
   "metadata": {},
   "outputs": [],
   "source": [
    "# Takes out planets that have no planet radius and eccentricity\n",
    "phl = phl[phl['pl_rade'].notna()]\n",
    "phl = phl[phl['pl_orbeccen'].notna()]\n",
    "\n",
    "# Resets index\n",
    "phl = phl.reset_index (drop = True)"
   ]
  },
  {
   "cell_type": "code",
   "execution_count": 27,
   "metadata": {},
   "outputs": [],
   "source": [
    "# Makes a new empty dataframe for the m-type planets in the PHL dataset\n",
    "phl_g_type = pd.DataFrame(columns=list(phl.columns))"
   ]
  },
  {
   "cell_type": "code",
   "execution_count": 28,
   "metadata": {},
   "outputs": [],
   "source": [
    "# Fills the empty dataframe with m-type planets from the PHL dataset\n",
    "phl_g_type = phl.loc[(phl['st_spectype'].str.startswith('G', na=False))]\n",
    "\n",
    "# Resets index\n",
    "phl_g_type = phl_g_type.reset_index (drop = True)"
   ]
  },
  {
   "cell_type": "code",
   "execution_count": 29,
   "metadata": {},
   "outputs": [],
   "source": [
    "def check_match(planet, control_planet):\n",
    "    if pd.isna(planet['pl_dens']):\n",
    "        if (not pd.isna(planet['pl_radj'])) & (not pd.isna(planet['pl_massj'])):\n",
    "            planet['pl_dens'] = (planet['pl_massj'] * (1.898 * (10 ** 27) * 1000)) \\\n",
    "            / (4 * np.pi * ((planet['pl_radj'] * 43441 * 160934) ** 3) / 3)\n",
    "        else:\n",
    "            return\n",
    "        \n",
    "    if pd.isna(planet['pl_orbsmax']) and (pd.isna(planet['pl_ratdor']) or pd.isna(planet['st_rad'])):\n",
    "        return\n",
    "\n",
    "    # Calculates orbital period in days for main planet\n",
    "    if pd.isna(planet['pl_orbper']):\n",
    "        if pd.isna(planet['pl_ratdor']):\n",
    "            planet['pl_orbper'] = np.sqrt(planet['pl_orbsmax']**3) * 365\n",
    "        elif not pd.isna(planet['st_rad']): \n",
    "            planet['pl_orbper'] = np.sqrt((planet['pl_ratdor']*planet['st_rad'])**3) * 365\n",
    "        if pd.isna(planet['pl_orbper']):\n",
    "            return\n",
    "    \n",
    "    if pd.isna(control_planet['pl_orbsmax']) and (pd.isna(control_planet['pl_ratdor']) or pd.isna(control_planet['st_rad'])):\n",
    "        return\n",
    "\n",
    "    # Calculates orbital period in days for phl planet\n",
    "    if pd.isna(control_planet['pl_orbper']):\n",
    "        if pd.isna(control_planet['pl_ratdor']):\n",
    "            control_planet['pl_orbper'] = np.sqrt(control_planet['pl_orbsmax']**3) * 365\n",
    "        elif not pd.isna(control_planet['st_rad']): \n",
    "            control_planet['pl_orbper'] = np.sqrt((control_planet['pl_ratdor']*control_planet['st_rad'])**3) * 365\n",
    "        if pd.isna(control_planet['pl_orbper']):\n",
    "            return\n",
    "    \n",
    "    if pd.isna(planet['pl_orbeccen']):\n",
    "        return\n",
    "    \n",
    "\n",
    "    if (float(planet['pl_dens']) >= 4) & (float(planet['pl_dens']) <= 7):\n",
    "        if (planet['pl_controv_flag'] == '0'):\n",
    "            if ('Transit' in planet['discoverymethod']):\n",
    "                if (planet['pl_orbeccen'] <= 0.2):\n",
    "                    if (np.abs(float(planet['pl_orbper']) - float(control_planet['pl_orbper'])) <= 50):\n",
    "                        global g_type_habitable\n",
    "                        g_type_habitable = m_type_habitable.append(planet, ignore_index = True)\n"
   ]
  },
  {
   "cell_type": "code",
   "execution_count": 30,
   "metadata": {},
   "outputs": [],
   "source": [
    "for i in range (len(g_type['pl_rade'])): \n",
    "    current_dist = np.abs(phl_g_type['pl_rade'][0]-g_type['pl_rade'][i])\n",
    "    if current_dist < 20:\n",
    "        planet = g_type.loc[i].copy()\n",
    "        control_planet = phl_g_type.loc[0].copy()\n",
    "        check_match(planet, control_planet)"
   ]
  },
  {
   "cell_type": "code",
   "execution_count": 31,
   "metadata": {},
   "outputs": [
    {
     "data": {
      "text/html": [
       "<div>\n",
       "<style scoped>\n",
       "    .dataframe tbody tr th:only-of-type {\n",
       "        vertical-align: middle;\n",
       "    }\n",
       "\n",
       "    .dataframe tbody tr th {\n",
       "        vertical-align: top;\n",
       "    }\n",
       "\n",
       "    .dataframe thead th {\n",
       "        text-align: right;\n",
       "    }\n",
       "</style>\n",
       "<table border=\"1\" class=\"dataframe\">\n",
       "  <thead>\n",
       "    <tr style=\"text-align: right;\">\n",
       "      <th></th>\n",
       "      <th>rowid</th>\n",
       "      <th>pl_name</th>\n",
       "      <th>hostname</th>\n",
       "      <th>pl_letter</th>\n",
       "      <th>hd_name</th>\n",
       "      <th>hip_name</th>\n",
       "      <th>tic_id</th>\n",
       "      <th>gaia_id</th>\n",
       "      <th>default_flag</th>\n",
       "      <th>sy_snum</th>\n",
       "      <th>...</th>\n",
       "      <th>st_nrvc</th>\n",
       "      <th>st_nspec</th>\n",
       "      <th>pl_nespec</th>\n",
       "      <th>pl_ntranspec</th>\n",
       "      <th>Unnamed: 287</th>\n",
       "      <th>Unnamed: 288</th>\n",
       "      <th>Unnamed: 289</th>\n",
       "      <th>Unnamed: 290</th>\n",
       "      <th>Unnamed: 291</th>\n",
       "      <th>Unnamed: 292</th>\n",
       "    </tr>\n",
       "  </thead>\n",
       "  <tbody>\n",
       "  </tbody>\n",
       "</table>\n",
       "<p>0 rows × 293 columns</p>\n",
       "</div>"
      ],
      "text/plain": [
       "Empty DataFrame\n",
       "Columns: [rowid, pl_name, hostname, pl_letter, hd_name, hip_name, tic_id, gaia_id, default_flag, sy_snum, sy_pnum, sy_mnum, cb_flag, discoverymethod, disc_year, disc_refname, disc_pubdate, disc_locale, disc_facility, disc_telescope, disc_instrument, rv_flag, pul_flag, ptv_flag, tran_flag, ast_flag, obm_flag, micro_flag, etv_flag, ima_flag, dkin_flag, soltype, pl_controv_flag, pl_refname, pl_orbper, pl_orbpererr1, pl_orbpererr2, pl_orbperlim, pl_orbsmax, pl_orbsmaxerr1, pl_orbsmaxerr2, pl_orbsmaxlim, pl_rade, pl_radeerr1, pl_radeerr2, pl_radelim, pl_radj, pl_radjerr1, pl_radjerr2, pl_radjlim, pl_masse, pl_masseerr1, pl_masseerr2, pl_masselim, pl_massj, pl_massjerr1, pl_massjerr2, pl_massjlim, pl_msinie, pl_msinieerr1, pl_msinieerr2, pl_msinielim, pl_msinij, pl_msinijerr1, pl_msinijerr2, pl_msinijlim, pl_cmasse, pl_cmasseerr1, pl_cmasseerr2, pl_cmasselim, pl_cmassj, pl_cmassjerr1, pl_cmassjerr2, pl_cmassjlim, pl_bmasse, pl_bmasseerr1, pl_bmasseerr2, pl_bmasselim, pl_bmassj, pl_bmassjerr1, pl_bmassjerr2, pl_bmassjlim, pl_bmassprov, pl_dens, pl_denserr1, pl_denserr2, pl_denslim, pl_orbeccen, pl_orbeccenerr1, pl_orbeccenerr2, pl_orbeccenlim, pl_insol, pl_insolerr1, pl_insolerr2, pl_insollim, pl_eqt, pl_eqterr1, pl_eqterr2, pl_eqtlim, pl_orbincl, ...]\n",
       "Index: []\n",
       "\n",
       "[0 rows x 293 columns]"
      ]
     },
     "execution_count": 31,
     "metadata": {},
     "output_type": "execute_result"
    }
   ],
   "source": [
    "g_type_habitable"
   ]
  },
  {
   "cell_type": "code",
   "execution_count": null,
   "metadata": {},
   "outputs": [],
   "source": []
  }
 ],
 "metadata": {
  "kernelspec": {
   "display_name": "Python 3",
   "language": "python",
   "name": "python3"
  },
  "language_info": {
   "codemirror_mode": {
    "name": "ipython",
    "version": 3
   },
   "file_extension": ".py",
   "mimetype": "text/x-python",
   "name": "python",
   "nbconvert_exporter": "python",
   "pygments_lexer": "ipython3",
   "version": "3.8.5"
  }
 },
 "nbformat": 4,
 "nbformat_minor": 4
}
